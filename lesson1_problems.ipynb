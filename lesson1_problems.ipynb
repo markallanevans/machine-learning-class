{
 "cells": [
  {
   "cell_type": "markdown",
   "metadata": {},
   "source": [
    "# Lesson 1 - Problem Set\n",
    "\n",
    "Please solve the questions in this notebook and submit the completed notebook. The timestamp of submission will be considered the timestamp of completion.\n",
    "\n",
    "1. Create a 3x3x3 array with random values. $_{5\\text{pts}}$\n",
    "\n",
    "1. Create a 4x4 matrix with row values ranging from 0 to 3. $_{5\\text{pts}}$\n",
    "\n",
    "1. Create a random numpy array with 25 elements in sorted order (from least to greatest). $_{5\\text{pts}}$\n",
    "\n",
    "1. Write a function which takes a numpy array `arr` and a scalar `n` and returns the closest value in the array to the provided scalar `n`. $_{10\\text{pts}}$.\n",
    "\n",
    "    **Hint**: Consider the [argmin](https://docs.scipy.org/doc/numpy/reference/generated/numpy.argmin.html) function provided by numpy\n",
    "    \n",
    "1. In the first lesson, we saw the use of the [matplotlib](https://matplotlib.org/) library to generate graphical representations of our data. Using this library, we are going to plot a normal distribution. $_{10\\text{pts}}$.\n",
    "    1. Using the terms mean, variance, and standard deviation, describe a uniform distribution? $_{2\\text{pts}}$.\n",
    "    1. Using the terms mean, variance, and standard deviation, describe a normal distribution? $_{2\\text{pts}}$.\n",
    "    1. Using the [normal](https://docs.scipy.org/doc/numpy-1.14.0/reference/generated/numpy.random.normal.html) function, generate a numpy array of normally distributed numbers. $_{2\\text{pts}}$. (*Hint: Generate the distribution by leveraging your knowledge of mean, variance, and standard deviation.*)\n",
    "    1. What is a histogram? $_{2\\text{pts}}$.\n",
    "    1. Plot a histogram of the normally distributed data that you generated above. $_{2\\text{pts}}$.\n",
    "\n",
    "1. Using a histogram, plot normally sampled data in order to answer the following questions. $_{5\\text{pts}}$.\n",
    "    1. What happens when you change the mean? $_{2.5\\text{pts}}$.\n",
    "    1. What happens when you change the standard deviation? $_{2.5\\text{pts}}$."
   ]
  },
  {
   "cell_type": "code",
   "execution_count": 2,
   "metadata": {},
   "outputs": [
    {
     "name": "stdout",
     "output_type": "stream",
     "text": [
      "[[[0.3676756  0.16515627 0.90592521]\n",
      "  [0.54121773 0.26605747 0.78172623]\n",
      "  [0.44104615 0.15748511 0.23185062]]\n",
      "\n",
      " [[0.49136246 0.80558126 0.13588211]\n",
      "  [0.99760312 0.27987728 0.48534686]\n",
      "  [0.20117415 0.59319792 0.1226828 ]]\n",
      "\n",
      " [[0.91683432 0.01482442 0.7733785 ]\n",
      "  [0.98525687 0.80001428 0.92732321]\n",
      "  [0.24529247 0.32971355 0.14635547]]]\n"
     ]
    }
   ],
   "source": [
    "# Question 1\n",
    "\n",
    "import numpy as np\n",
    "\n",
    "x = np.random.random((3,3,3))\n",
    "print(x)"
   ]
  },
  {
   "cell_type": "code",
   "execution_count": 3,
   "metadata": {},
   "outputs": [
    {
     "name": "stdout",
     "output_type": "stream",
     "text": [
      "[[0. 1. 2. 3.]\n",
      " [0. 1. 2. 3.]\n",
      " [0. 1. 2. 3.]\n",
      " [0. 1. 2. 3.]]\n"
     ]
    }
   ],
   "source": [
    "# Question 2\n",
    "\n",
    "matrix = np.zeros((4,4))\n",
    "matrix += np.arange(4)\n",
    "\n",
    "print(matrix)"
   ]
  },
  {
   "cell_type": "code",
   "execution_count": 4,
   "metadata": {},
   "outputs": [
    {
     "name": "stdout",
     "output_type": "stream",
     "text": [
      "[ 45162  84487 205303 245372 263421 307118 429841 432495 456269 456383\n",
      " 583753 639486 650018 655720 674830 691905 712144 729126 769927 792937\n",
      " 923632 937741 977500 994132 996713]\n"
     ]
    }
   ],
   "source": [
    "# Question 3\n",
    "\n",
    "# I wasn't sure for this one what range you meant, but just went with 1000000. \n",
    "# Looking at this... I would be happy to use this formula to generate a salary. HA!\n",
    "\n",
    "array = np.random.randint(1,1000000,25)\n",
    "sortedArray = np.sort(array)\n",
    "\n",
    "print(sortedArray)"
   ]
  },
  {
   "cell_type": "code",
   "execution_count": 5,
   "metadata": {},
   "outputs": [
    {
     "name": "stdout",
     "output_type": "stream",
     "text": [
      "Sample Array:  [31 47  7 65 24 37 47 26 96 41]\n",
      "Sample Number:  66\n"
     ]
    },
    {
     "ename": "NameError",
     "evalue": "name 'sampleNum' is not defined",
     "output_type": "error",
     "traceback": [
      "\u001b[0;31m---------------------------------------------------------------------------\u001b[0m",
      "\u001b[0;31mNameError\u001b[0m                                 Traceback (most recent call last)",
      "\u001b[0;32m<ipython-input-5-c28dfe35b792>\u001b[0m in \u001b[0;36m<module>\u001b[0;34m()\u001b[0m\n\u001b[1;32m     16\u001b[0m     \u001b[0;32mreturn\u001b[0m \u001b[0mresult\u001b[0m\u001b[0;34m\u001b[0m\u001b[0m\n\u001b[1;32m     17\u001b[0m \u001b[0;34m\u001b[0m\u001b[0m\n\u001b[0;32m---> 18\u001b[0;31m \u001b[0mfindClosest\u001b[0m\u001b[0;34m(\u001b[0m\u001b[0msampleNum\u001b[0m\u001b[0;34m,\u001b[0m \u001b[0msampleArray\u001b[0m\u001b[0;34m)\u001b[0m\u001b[0;34m\u001b[0m\u001b[0m\n\u001b[0m",
      "\u001b[0;31mNameError\u001b[0m: name 'sampleNum' is not defined"
     ]
    }
   ],
   "source": [
    "# Question 4\n",
    "\n",
    "testArray = np.random.randint(1,100,10)\n",
    "testNum = 66\n",
    "print('Sample Array: ', testArray)\n",
    "print('Sample Number: ', testNum)\n",
    "\n",
    "def findClosest(num, arr):\n",
    "    arr = arr\n",
    "    holder = []\n",
    "    for item in arr:\n",
    "        difference = num - item\n",
    "        holder.append(abs(difference))\n",
    "    closest = np.argmin(holder)\n",
    "    result = arr[closest]\n",
    "    return result\n",
    "\n",
    "findClosest(sampleNum, sampleArray)"
   ]
  },
  {
   "cell_type": "markdown",
   "metadata": {},
   "source": [
    "Question 5.A - Using the terms mean, variance, and standard deviation, describe a uniform distribution?\n",
    "\n",
    "> A uniform distribution is one where the probability remains even, like a deck of cards or flipping a coin. The likelihood of drawing a heart, club, spade or diamond is equally likely. In flipping a coin, the likelihood of getting heads or tails is equally likely."
   ]
  },
  {
   "cell_type": "markdown",
   "metadata": {},
   "source": [
    "Quetion 5.B - Using the terms mean, variance, and standard deviation, describe a normal distribution?\n",
    "> A normal distribution is denser at the center and less dense at the tails, 68% of the area is within one standard deviation of the mean."
   ]
  },
  {
   "cell_type": "markdown",
   "metadata": {},
   "source": [
    "Question 5.C - Using the [normal](https://docs.scipy.org/doc/numpy-1.14.0/reference/generated/numpy.random.normal.html) function, generate a numpy array of normally distributed numbers. $_{2\\text{pts}}$. (*Hint: Generate the distribution by leveraging your knowledge of mean, variance, and standard deviation.*)"
   ]
  },
  {
   "cell_type": "code",
   "execution_count": 6,
   "metadata": {},
   "outputs": [
    {
     "name": "stdout",
     "output_type": "stream",
     "text": [
      "[-0.20269031  0.04929955 -0.08162008  0.00805707  0.13491111  0.02047235\n",
      "  0.08110629 -0.03764934 -0.01079986  0.03701257 -0.06661717  0.09672167\n",
      " -0.05978711  0.14641897  0.08452477  0.06317107 -0.1924799   0.092348\n",
      " -0.11466901  0.10286049  0.13730173 -0.04264664  0.03129122 -0.04525428\n",
      "  0.16346985  0.11451677 -0.30271305 -0.11043138 -0.06048272 -0.04107156\n",
      " -0.00786995  0.15755879  0.2494262   0.02728869 -0.02932079  0.05000164\n",
      "  0.09832339  0.10823704  0.13625852 -0.01218539  0.16749119 -0.26614714\n",
      "  0.11890359 -0.00612216 -0.09392112 -0.1309673  -0.25500644 -0.11093879\n",
      " -0.06393857 -0.07562024 -0.02275738  0.09567344  0.00545433  0.05394927\n",
      " -0.1071029  -0.03100102 -0.00442629 -0.04674241  0.10232683  0.14963371\n",
      "  0.15073013 -0.04283598  0.11584939 -0.147422   -0.02584517  0.09299937\n",
      " -0.10243061 -0.22813275 -0.03527954  0.03763541 -0.04500275 -0.2571258\n",
      " -0.06017544 -0.01063419  0.03611042 -0.08186887 -0.12123547  0.00718936\n",
      " -0.17101199 -0.04680729 -0.02983828 -0.04131197 -0.04681519  0.07047195\n",
      " -0.17212158 -0.08799097 -0.02400928 -0.14496079 -0.12317637  0.14849145\n",
      "  0.0359387   0.0124412   0.00414665  0.01663843  0.01787642  0.02782062\n",
      "  0.1487913   0.12634117 -0.11285921  0.07675378  0.12579565  0.07464408\n",
      " -0.08936668 -0.06186091 -0.24147061 -0.10235773  0.12239218 -0.17170186\n",
      " -0.13965224  0.15892621 -0.01122421  0.08427753  0.18905695 -0.15522933\n",
      " -0.06667932 -0.04513753  0.02754729 -0.20452128 -0.08931752 -0.05022365\n",
      "  0.00911345 -0.03695762 -0.09555611 -0.10454151 -0.02682748 -0.05964748\n",
      " -0.01921036 -0.02373389  0.01006065 -0.11573871  0.02351431 -0.07028899\n",
      " -0.1043905  -0.11299626 -0.0866825  -0.00073774  0.1164581   0.0803313\n",
      "  0.10177075 -0.059665   -0.12266481 -0.01226353  0.09098395  0.00115276\n",
      " -0.0453732   0.11564298 -0.11869123 -0.01512698  0.12640142  0.15824072\n",
      " -0.12331766 -0.00890287 -0.11924461  0.01840677  0.02673363 -0.04678948\n",
      "  0.19279475  0.02852621  0.06627421  0.3235916   0.13148315 -0.07514645\n",
      "  0.18398154  0.05858833 -0.04497995 -0.02429947  0.03149907 -0.11198277\n",
      " -0.25239087  0.01861407 -0.01747759 -0.14038618  0.02196121  0.0066024\n",
      "  0.17821651  0.12678658  0.02778952 -0.01879383  0.07277146 -0.04476189\n",
      " -0.05541719  0.03966257  0.00720062 -0.01532388 -0.04488729  0.03103956\n",
      "  0.14426352  0.09943042  0.05170946 -0.11147655 -0.14217273  0.09940728\n",
      "  0.1360136  -0.11776541 -0.09900175  0.09302358  0.06953495  0.2713519\n",
      " -0.01394967 -0.11457889  0.15490493 -0.06606453 -0.1372202  -0.13046927\n",
      "  0.05899562 -0.11692911  0.00091298 -0.09089431 -0.1184972   0.04079208\n",
      " -0.03146187  0.20367234 -0.18398241 -0.10681542  0.05226111  0.00255283\n",
      " -0.04034381  0.02157183  0.05549295 -0.03922954 -0.16896099 -0.05004357\n",
      "  0.02700964  0.07292109 -0.15547885 -0.0221159  -0.20581165  0.08596713\n",
      "  0.03154634 -0.02482328 -0.13163488 -0.16570892  0.05346732 -0.06378817\n",
      " -0.10885528  0.08349392  0.02067786 -0.10317269 -0.04506561 -0.08058139\n",
      "  0.04014267  0.01354434  0.13958164 -0.0600841  -0.1034405  -0.02505729\n",
      "  0.02184417 -0.10850395 -0.21460226 -0.17793688 -0.02703891 -0.2670235\n",
      "  0.14986522 -0.05837443 -0.13682337  0.07629282 -0.17043636 -0.02746213\n",
      "  0.0207768   0.10285782  0.05054524 -0.00989354 -0.10020651 -0.04900027\n",
      " -0.01596342 -0.09186528  0.08110427 -0.14359256  0.09997247 -0.03987398\n",
      " -0.10251846 -0.06234757 -0.01234499 -0.1477682  -0.03040123  0.15786644\n",
      " -0.06693135  0.04636488 -0.07787497 -0.1297352   0.10181308 -0.0413751\n",
      "  0.25714085 -0.06492491 -0.0415153  -0.20193318  0.00386263 -0.01598601\n",
      "  0.21290091 -0.0219137   0.14563688 -0.05633062  0.1790931   0.08094092\n",
      "  0.05174691 -0.02860688  0.17999844 -0.06388144  0.07630021  0.15912477\n",
      " -0.01198308 -0.01407641  0.00996923 -0.10329792 -0.17222191 -0.10969153\n",
      "  0.05174737 -0.05768114 -0.16921898 -0.07577699  0.02614587 -0.02296157\n",
      "  0.21800033  0.00063876  0.02700179 -0.02410452  0.04947527  0.0476448\n",
      "  0.10686688  0.02166094  0.16768804  0.01412424 -0.07268357  0.02977468\n",
      " -0.21085231 -0.12491142 -0.23538555 -0.07097898  0.1552627  -0.04262032\n",
      " -0.00667729 -0.07235596  0.195746    0.05804278  0.0496329   0.13488085\n",
      " -0.04810763 -0.05916691 -0.14457116  0.0736185   0.31028118  0.15677355\n",
      " -0.1490036  -0.1995839   0.07554272 -0.01001439 -0.06799677  0.01820127\n",
      "  0.06300051 -0.12289955  0.06356082 -0.10956996 -0.07845969 -0.13194573\n",
      " -0.15012094 -0.01554511 -0.18187014 -0.01707767  0.03622174  0.05891419\n",
      " -0.11067125  0.01111737 -0.19353452 -0.01892213 -0.16113859  0.03950793\n",
      "  0.10292639  0.08531902  0.08258525  0.22470899 -0.11982488  0.04415928\n",
      " -0.11455835  0.00282708 -0.18410689 -0.19300501  0.03893123  0.01627943\n",
      "  0.00594491  0.03152181  0.01166561 -0.01123026  0.15882406  0.20216279\n",
      " -0.01248592 -0.05347046 -0.03110353 -0.09447921 -0.08579954 -0.0674178\n",
      " -0.03666434  0.12573307 -0.02209276  0.00159848 -0.01365565  0.09056223\n",
      "  0.02204518 -0.04460285 -0.14495553 -0.06637102 -0.0653915   0.07520754\n",
      "  0.09743589  0.15441678  0.01146759  0.05366594  0.03531573 -0.15099881\n",
      " -0.03665989  0.03316183  0.12072012 -0.12021663  0.09731678  0.05595708\n",
      " -0.08000282  0.03493116 -0.22417904 -0.02216347 -0.07907083 -0.05799642\n",
      "  0.09486369 -0.0190729   0.1726514   0.20378206  0.00064005  0.09296891\n",
      " -0.14168692  0.10216523 -0.00844482  0.02475737 -0.02996736  0.02854518\n",
      "  0.10679743 -0.02004095  0.00464818  0.06132459  0.15037239 -0.1308623\n",
      "  0.06514967 -0.11581754 -0.05561821  0.27174923  0.1338386   0.05975847\n",
      "  0.07430929  0.06904749 -0.02047778  0.01811556 -0.03343562  0.01614867\n",
      "  0.03309245  0.11371787 -0.05852554  0.01342868  0.01094335 -0.08600156\n",
      "  0.0550771   0.01895036  0.0466659  -0.03660279  0.01911682  0.02637714\n",
      " -0.05726503 -0.11768217 -0.03358224  0.05969172 -0.14720662  0.19091848\n",
      "  0.2032557   0.03377069  0.1111395  -0.00493392 -0.01048325 -0.06453511\n",
      " -0.01779109  0.00256197 -0.1363282  -0.11553736  0.02071771 -0.06209528\n",
      "  0.06837579 -0.13724028  0.06319973  0.09849433  0.05561392 -0.00888658\n",
      "  0.10588237  0.07691031  0.07984152  0.01143838  0.0544233  -0.04606373\n",
      "  0.03813726 -0.00290272  0.06510927 -0.12445419 -0.11280731 -0.0958347\n",
      "  0.03892866 -0.08225912 -0.10734278  0.01218959 -0.07408965  0.03208715\n",
      "  0.0010659  -0.02853574 -0.0740309   0.11156028  0.20852475 -0.03952615\n",
      " -0.02942306 -0.0889814  -0.01740745  0.13968042  0.08377618 -0.04274709\n",
      "  0.0411344   0.03795814 -0.16932256  0.06284372 -0.07927437  0.07332909\n",
      " -0.03145429  0.01671407 -0.1621109   0.03683371  0.25554874  0.19031344\n",
      "  0.0275961  -0.01370795  0.1421664  -0.06208124 -0.03873438 -0.08625157\n",
      " -0.0789377  -0.09833028 -0.16848562 -0.02235419 -0.01633138 -0.09267155\n",
      "  0.24663667  0.02253784 -0.21071362 -0.0893662   0.04239607  0.08761931\n",
      "  0.13402464  0.0103935   0.12122829 -0.0561655  -0.10246896  0.14868747\n",
      " -0.03169855 -0.01957547  0.00146323 -0.12748267  0.06062328 -0.1595435\n",
      "  0.03894651  0.05555517  0.17058745 -0.22341347 -0.02050071 -0.15109198\n",
      "  0.06648691 -0.10694099 -0.09065095  0.05702873  0.05720796 -0.01401149\n",
      "  0.17913679  0.03871972  0.00616605 -0.09553704  0.0504121  -0.0307353\n",
      "  0.02001657 -0.11290101  0.17162266  0.08981882  0.0314317  -0.04869997\n",
      " -0.10321579 -0.09991206  0.04050056  0.06598701  0.05169019 -0.0514352\n",
      " -0.19790387  0.03393752  0.08592881  0.02876088  0.06527779 -0.01487506\n",
      " -0.01213491  0.20231084  0.06279397  0.11077673  0.01628898 -0.13967628\n",
      " -0.10342482  0.05196891  0.14876915  0.08483393  0.24407231  0.0468063\n",
      " -0.01746468  0.05874576  0.22569758  0.05547078  0.07476283  0.0544228\n",
      "  0.01764632  0.09797755  0.03223395 -0.03491899  0.19906977 -0.16301717\n",
      "  0.0425749   0.00871774  0.01511942 -0.10684024 -0.08761056 -0.02930282\n",
      "  0.22607037  0.02781867  0.00132446 -0.08279626 -0.02630678  0.00452164\n",
      "  0.11710427  0.1669864   0.15640876 -0.18138874  0.18058051 -0.04439562\n",
      " -0.04571156 -0.10299399 -0.09760276  0.13957937 -0.11827936  0.08204326\n",
      "  0.09075584 -0.02661211 -0.00155849 -0.07173773  0.06766175  0.05570793\n",
      " -0.1921628   0.00174333 -0.14267688  0.02682238 -0.22130964 -0.15574492\n",
      " -0.00719173 -0.01182352  0.03278151  0.14545714 -0.06158528 -0.27319801\n",
      "  0.01094107 -0.04777155 -0.01127551  0.07074454 -0.11553031 -0.09771642\n",
      "  0.04098193  0.06969591 -0.06516946 -0.19132496  0.0447119   0.05071421\n",
      " -0.13512885 -0.03244074  0.1061417   0.11223947  0.0376657   0.03439001\n",
      " -0.10031592 -0.09013961 -0.07188822 -0.0274611   0.08294389 -0.14962262\n",
      "  0.04277375  0.12843423  0.04864158  0.17213069  0.0864292   0.02015203\n",
      " -0.00382059  0.05853997  0.11590369  0.06257121 -0.06983234 -0.14430251\n",
      " -0.05139179  0.16770421  0.01271514 -0.03093755 -0.02113551 -0.01011074\n",
      " -0.20134032  0.00457589  0.04525864  0.03442727  0.02343774 -0.02931872\n",
      " -0.02709589 -0.03699796  0.06344086 -0.03512542  0.1547614   0.02945843\n",
      "  0.0144118   0.09329129  0.05239481  0.09829953 -0.07705155 -0.21957723\n",
      "  0.0005805   0.00507104  0.05157176  0.11101778 -0.04363215  0.20677804\n",
      " -0.00560048  0.10815857  0.08445688  0.05390452  0.03969192 -0.08689361\n",
      " -0.07626528  0.10283234 -0.02096312 -0.16356221 -0.09475336  0.00080115\n",
      " -0.1645016   0.04155     0.1768342  -0.03322141 -0.12806304  0.15726801\n",
      "  0.02507047  0.02198596  0.0094829  -0.12340228  0.27892759 -0.08199092\n",
      " -0.02705831 -0.00929191  0.06128688 -0.15508855 -0.05682489 -0.13181483\n",
      " -0.23671202  0.15536096  0.10406935 -0.04377366  0.05582801  0.07152118\n",
      " -0.02478543 -0.03993201 -0.05294105 -0.10033799 -0.02774186 -0.08189109\n",
      "  0.06158031 -0.00481684  0.17259874 -0.10174766  0.06528951 -0.0294241\n",
      " -0.04140521 -0.12195559  0.24473267 -0.01307575 -0.02043137 -0.12287676\n",
      "  0.10966146 -0.02453002 -0.00292912 -0.10125034  0.05014738 -0.05134549\n",
      " -0.00167434 -0.08634499 -0.0640482   0.15276763  0.13380559 -0.1565984\n",
      "  0.07097062 -0.09156641  0.08030403 -0.22643569 -0.14737467 -0.15482987\n",
      "  0.04383401 -0.06292965  0.04920418  0.08356724  0.02986941 -0.05202997\n",
      " -0.0076426  -0.09086316  0.17722811  0.08052636  0.11449446 -0.0131838\n",
      "  0.03512583  0.12853553 -0.06010315 -0.01058919  0.01868273  0.16038872\n",
      "  0.06079805 -0.05119047 -0.13152988 -0.08689469 -0.12501205 -0.23162692\n",
      " -0.06582723 -0.06414376 -0.11528158  0.01526564 -0.14675342 -0.08140521\n",
      "  0.0970119   0.13446269  0.14174558 -0.15723859 -0.23614173 -0.03723159\n",
      "  0.20771002  0.01680171  0.15370005  0.16194452 -0.03264699  0.08689087\n",
      "  0.16086533 -0.10177992  0.04138983  0.15146423 -0.11767379 -0.0268298\n",
      "  0.01425283 -0.09708937  0.13087367 -0.06765082  0.100144    0.06983581\n",
      " -0.04756535  0.06298247  0.03761064 -0.06323844 -0.11623477  0.21429485\n",
      "  0.13016783  0.15368245  0.16863939  0.04586722  0.02272337  0.08938568\n",
      "  0.02640621  0.10258531  0.01746109 -0.04847007  0.03501365  0.03663365\n",
      "  0.03677813 -0.0616511   0.03101962 -0.10027677  0.03245307  0.16488129\n",
      " -0.08583448 -0.16070136  0.05214913  0.14275199  0.07260258 -0.1839836\n",
      "  0.07254494 -0.00125537  0.11650375 -0.11101743 -0.11706468 -0.15108036\n",
      " -0.04624812  0.03283141  0.04842076  0.14077479  0.0549869  -0.05001425\n",
      " -0.2246287  -0.0972323  -0.03417422 -0.15465178  0.06285217  0.19067407\n",
      "  0.05033086  0.08615588 -0.17483859 -0.08596179 -0.0444688  -0.06630341\n",
      "  0.04639496  0.18406792 -0.07270065 -0.02968993 -0.06693774  0.05969847\n",
      " -0.1435883   0.01571861 -0.0397699  -0.04883699 -0.08103562 -0.15878501\n",
      " -0.21373136  0.10346787  0.06589711 -0.05486814 -0.09752834  0.18943933\n",
      "  0.05142686 -0.12344925  0.08236644 -0.06670083 -0.10714957  0.02000615\n",
      "  0.28013518 -0.0851191   0.11880181  0.19954716 -0.08497768  0.0730539\n",
      "  0.16905523 -0.14922076  0.02273812 -0.10739884 -0.03354585 -0.2476981\n",
      " -0.02517702 -0.0854745   0.06649447  0.00771713  0.05647807 -0.03504258\n",
      " -0.04642074 -0.0592676  -0.06274424  0.06275491 -0.08667338 -0.1029871\n",
      "  0.011692    0.05636058 -0.06506568  0.14469332 -0.0729463  -0.0014769\n",
      "  0.03805977  0.07128552 -0.03974567  0.08132011 -0.0314794  -0.03089343\n",
      "  0.11211048  0.11219229  0.2011814   0.13741602 -0.07559091 -0.04435801\n",
      "  0.101684    0.19825719 -0.00635337  0.08318565  0.04684567  0.07085062\n",
      " -0.16984372  0.21680832 -0.02947072 -0.00413916  0.05471921  0.08702108\n",
      " -0.04004436 -0.0329078   0.068623    0.07493695 -0.07327193 -0.10642961\n",
      "  0.00806715  0.02549239  0.08171637 -0.26607481 -0.00543622  0.04840462\n",
      "  0.18120486  0.08535569 -0.03369657 -0.14418673]\n"
     ]
    }
   ],
   "source": [
    "# Question 5.C\n",
    "\n",
    "mu, sigma = 0, 0.1\n",
    "sample = np.random.normal(mu, sigma, 1000)\n",
    "\n",
    "print(sample)"
   ]
  },
  {
   "cell_type": "markdown",
   "metadata": {},
   "source": [
    "Question 5.D - What is a histogram?\n"
   ]
  },
  {
   "cell_type": "markdown",
   "metadata": {},
   "source": [
    "> A historgram is a diagram consisting of rectangles whose area is proportional to the frequency of a variable and whose width is equal to the class interval.\n",
    "\n"
   ]
  },
  {
   "cell_type": "markdown",
   "metadata": {},
   "source": [
    "Question 5.E - Plot a histogram of the normally distributed data that you generated above. "
   ]
  },
  {
   "cell_type": "code",
   "execution_count": 7,
   "metadata": {},
   "outputs": [],
   "source": [
    "import matplotlib.pyplot as plt"
   ]
  },
  {
   "cell_type": "code",
   "execution_count": 8,
   "metadata": {},
   "outputs": [
    {
     "data": {
      "image/png": "[encoded data removed]",
      "text/plain": [
       "<Figure size 432x288 with 1 Axes>"
      ]
     },
     "metadata": {},
     "output_type": "display_data"
    }
   ],
   "source": [
    "# Question 5.E\n",
    "\n",
    "plt.hist(sample, facecolor=\"r\")\n",
    "plt.grid(True)\n",
    "\n"
   ]
  },
  {
   "cell_type": "markdown",
   "metadata": {},
   "source": [
    "Using a histogram, plot normally sampled data in order to answer the following questions.\n",
    "\n",
    "+ What happens when you change the mean?\n",
    "+ What happens when you change the standard deviation?"
   ]
  },
  {
   "cell_type": "code",
   "execution_count": 12,
   "metadata": {},
   "outputs": [
    {
     "data": {
      "text/plain": [
       "(array([  3.,  30.,  70., 137., 250., 239., 153.,  77.,  32.,   9.]),\n",
       " array([-0.32155591, -0.25795755, -0.19435918, -0.13076082, -0.06716245,\n",
       "        -0.00356409,  0.06003428,  0.12363264,  0.18723101,  0.25082938,\n",
       "         0.31442774]),\n",
       " <a list of 10 Patch objects>)"
      ]
     },
     "execution_count": 12,
     "metadata": {},
     "output_type": "execute_result"
    },
    {
     "data": {
      "image/png": "[encoded data removed]",
      "text/plain": [
       "<Figure size 432x288 with 1 Axes>"
      ]
     },
     "metadata": {},
     "output_type": "display_data"
    }
   ],
   "source": [
    "# I'm not sure I really got the purpose of this question, or I'm completely out in left field.\n",
    "# In the end I assumed it was simply to get a feel for how a histogram looks depending on\n",
    "# the mean and the standard deviation of the data set.\n",
    "\n",
    "mu, sigma = 0, 0.5\n",
    "sample = np.random.normal(mu, sigma, 1000)\n",
    "\n",
    "mu, sigma = 2, 0.5\n",
    "sampleWithDifferentMean = np.random.normal(mu, sigma, 1000)\n",
    "\n",
    "mu, sigma = 0, 0.1\n",
    "sampleWithDifferentSD = np.random.normal(mu, sigma, 1000)\n",
    "\n",
    "plt.hist(sample, color=\"green\")\n",
    "plt.hist(sampleWithDifferentMean, color=\"red\")\n",
    "plt.hist(sampleWithDifferentSD, color=\"blue\")"
   ]
  },
  {
   "cell_type": "markdown",
   "metadata": {},
   "source": [
    "When you change the mean, the distribution of the probability of results changes.\n",
    "When you change the standard deviation, the probability of results closer to the mean increases where the probability of results further away from the mean decreases."
   ]
  },
  {
   "cell_type": "code",
   "execution_count": null,
   "metadata": {},
   "outputs": [],
   "source": []
  }
 ],
 "metadata": {
  "kernelspec": {
   "display_name": "Python 3",
   "language": "python",
   "name": "python3"
  },
  "language_info": {
   "codemirror_mode": {
    "name": "ipython",
    "version": 3
   },
   "file_extension": ".py",
   "mimetype": "text/x-python",
   "name": "python",
   "nbconvert_exporter": "python",
   "pygments_lexer": "ipython3",
   "version": "3.6.5"
  }
 },
 "nbformat": 4,
 "nbformat_minor": 2
}
