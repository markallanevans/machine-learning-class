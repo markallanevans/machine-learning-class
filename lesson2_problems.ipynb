{
 "cells": [
  {
   "cell_type": "markdown",
   "metadata": {},
   "source": [
    "# Lesson 1 - Problem Set\n",
    "\n",
    "Please solve the questions in this notebook and submit the completed notebook. The timestamp of submission will be considered the timestamp of completion.\n",
    "\n",
    "1. What is the Central Limit Theorem? $_{5\\text{pts}}$\n",
    "\n",
    "2. Suppose I sell Banh Mi, and the probability that I will receive a customer in any given hour is modeled by the data in `customer_pmf`. Write a python function which shows how the CLT arises from the provided distribution.\n",
    "\n",
    "3. Let's assume that `voter_age_country` contains age data for the entire country of Thailand, and `voter_age_province` contains age data for the province of Amnat Charoen, which is the second most populous province in Thailand. You work for a political firm which is trying to determine voter turn out in Amnat Charoen. In order to more effectively target your advertising dollars, you decide to see analyze the average age of voters in Shanta. Thus you decide to test whether the average age of voters in Amnat Charoen differs from the average age of voters in the entire population of Thailand.\n",
    "> Using the Hypothesis Testing methodology outlined during class, determine whether the average age of voters in Amnat Charoen differs from the entire population. $_{20\\text{pts}}$"
   ]
  },
  {
   "cell_type": "code",
   "execution_count": 26,
   "metadata": {},
   "outputs": [],
   "source": [
    "import numpy as np\n",
    "\n",
    "#### Problem 2 data ###\n",
    "customer_pmf = np.random.poisson(12, size=50000)\n",
    "\n",
    "#### Problem 3 data ####\n",
    "voter_age_country = np.concatenate([np.random.poisson(35,size=15000),np.random.poisson(10,size=10000)])\n",
    "voter_age_province = np.concatenate([np.random.poisson(30,size=30),np.random.poisson(10,size=20)])"
   ]
  },
  {
   "cell_type": "markdown",
   "metadata": {},
   "source": [
    "__Question 1__\n",
    "\n",
    "The _Central Limit Theorem_ states that if you calculate the mean of random samples of any distribution, the means will tend to follow a normal distribution. As the sample size becomes larger, the result will more closely approximate a normal distribution."
   ]
  },
  {
   "cell_type": "code",
   "execution_count": 55,
   "metadata": {},
   "outputs": [
    {
     "data": {
      "text/plain": [
       "(array([3.3000e+01, 9.1000e+01, 3.2200e+02, 9.2500e+02, 2.3350e+03,\n",
       "        4.6550e+03, 8.0470e+03, 1.2095e+04, 1.5208e+04, 1.6070e+04,\n",
       "        1.5417e+04, 1.0822e+04, 7.0460e+03, 4.0310e+03, 1.7760e+03,\n",
       "        7.4500e+02, 2.8000e+02, 7.1000e+01, 2.4000e+01, 7.0000e+00]),\n",
       " array([10.67 , 10.811, 10.952, 11.093, 11.234, 11.375, 11.516, 11.657,\n",
       "        11.798, 11.939, 12.08 , 12.221, 12.362, 12.503, 12.644, 12.785,\n",
       "        12.926, 13.067, 13.208, 13.349, 13.49 ]),\n",
       " <a list of 20 Patch objects>)"
      ]
     },
     "execution_count": 55,
     "metadata": {},
     "output_type": "execute_result"
    },
    {
     "data": {
      "image/png": "[encoded data removed]",
      "text/plain": [
       "<Figure size 432x288 with 1 Axes>"
      ]
     },
     "metadata": {},
     "output_type": "display_data"
    }
   ],
   "source": [
    "import matplotlib.pyplot as plt\n",
    "\n",
    "clt_dist = []\n",
    "for i in range(100000):\n",
    "    s = np.random.choice(customer_pmf, size=100)\n",
    "    clt_dist.append(np.mean(s))\n",
    "        \n",
    "plt.hist(clt_dist, bins=20)\n"
   ]
  },
  {
   "cell_type": "code",
   "execution_count": 56,
   "metadata": {},
   "outputs": [
    {
     "data": {
      "text/plain": [
       "(array([ 667., 6256., 2958.,  420., 2361., 5542., 4778., 1713.,  276.,\n",
       "          29.]),\n",
       " array([ 0. ,  5.9, 11.8, 17.7, 23.6, 29.5, 35.4, 41.3, 47.2, 53.1, 59. ]),\n",
       " <a list of 10 Patch objects>)"
      ]
     },
     "execution_count": 56,
     "metadata": {},
     "output_type": "execute_result"
    },
    {
     "data": {
      "image/png": "[encoded data removed]",
      "text/plain": [
       "<Figure size 432x288 with 1 Axes>"
      ]
     },
     "metadata": {},
     "output_type": "display_data"
    }
   ],
   "source": [
    "plt.hist(voter_age_country)"
   ]
  },
  {
   "cell_type": "code",
   "execution_count": 57,
   "metadata": {},
   "outputs": [
    {
     "data": {
      "text/plain": [
       "(array([11.,  7.,  4.,  5.,  6., 13.,  2.,  1.,  0.,  1.]),\n",
       " array([ 6. , 11.2, 16.4, 21.6, 26.8, 32. , 37.2, 42.4, 47.6, 52.8, 58. ]),\n",
       " <a list of 10 Patch objects>)"
      ]
     },
     "execution_count": 57,
     "metadata": {},
     "output_type": "execute_result"
    },
    {
     "data": {
      "image/png": "[encoded data removed]",
      "text/plain": [
       "<Figure size 432x288 with 1 Axes>"
      ]
     },
     "metadata": {},
     "output_type": "display_data"
    }
   ],
   "source": [
    "plt.hist(voter_age_province)"
   ]
  },
  {
   "cell_type": "code",
   "execution_count": 58,
   "metadata": {},
   "outputs": [],
   "source": [
    "# The null hypothesis would be that the average voter age is the same in the provinces.\n",
    "# The alternative hypothesis would be that the average voter age is different in the provinces.\n"
   ]
  },
  {
   "cell_type": "code",
   "execution_count": 70,
   "metadata": {},
   "outputs": [
    {
     "data": {
      "text/plain": [
       "(array([2.000e+00, 0.000e+00, 1.000e+00, 0.000e+00, 0.000e+00, 0.000e+00,\n",
       "        1.000e+00, 1.000e+00, 1.000e+00, 1.000e+00, 1.000e+00, 0.000e+00,\n",
       "        1.000e+00, 1.000e+00, 1.000e+00, 3.000e+00, 3.000e+00, 1.000e+00,\n",
       "        5.000e+00, 3.000e+00, 9.000e+00, 5.000e+00, 7.000e+00, 7.000e+00,\n",
       "        1.500e+01, 1.200e+01, 1.300e+01, 1.300e+01, 1.300e+01, 2.000e+01,\n",
       "        2.900e+01, 2.600e+01, 2.400e+01, 3.300e+01, 3.300e+01, 3.800e+01,\n",
       "        4.000e+01, 6.400e+01, 7.200e+01, 7.500e+01, 8.100e+01, 8.700e+01,\n",
       "        9.500e+01, 1.090e+02, 1.260e+02, 1.180e+02, 1.450e+02, 1.780e+02,\n",
       "        1.760e+02, 1.970e+02, 2.210e+02, 2.590e+02, 2.680e+02, 2.740e+02,\n",
       "        3.020e+02, 3.150e+02, 3.670e+02, 4.050e+02, 3.990e+02, 4.650e+02,\n",
       "        4.880e+02, 5.480e+02, 5.990e+02, 6.140e+02, 6.360e+02, 6.910e+02,\n",
       "        7.630e+02, 7.770e+02, 8.310e+02, 9.090e+02, 9.090e+02, 9.970e+02,\n",
       "        1.028e+03, 1.074e+03, 1.093e+03, 1.146e+03, 1.240e+03, 1.213e+03,\n",
       "        1.295e+03, 1.333e+03, 1.426e+03, 1.429e+03, 1.468e+03, 1.437e+03,\n",
       "        1.583e+03, 1.638e+03, 1.693e+03, 1.673e+03, 1.724e+03, 1.739e+03,\n",
       "        1.743e+03, 1.769e+03, 1.695e+03, 1.808e+03, 1.735e+03, 1.826e+03,\n",
       "        1.809e+03, 1.809e+03, 1.831e+03, 1.520e+03, 1.777e+03, 1.764e+03,\n",
       "        1.667e+03, 1.656e+03, 1.689e+03, 1.665e+03, 1.697e+03, 1.637e+03,\n",
       "        1.507e+03, 1.515e+03, 1.517e+03, 1.475e+03, 1.448e+03, 1.326e+03,\n",
       "        1.297e+03, 1.246e+03, 1.193e+03, 1.176e+03, 1.055e+03, 1.037e+03,\n",
       "        1.005e+03, 9.690e+02, 8.570e+02, 8.880e+02, 7.780e+02, 7.400e+02,\n",
       "        7.410e+02, 6.310e+02, 6.420e+02, 5.910e+02, 5.490e+02, 5.020e+02,\n",
       "        4.380e+02, 3.890e+02, 4.140e+02, 3.550e+02, 3.630e+02, 2.990e+02,\n",
       "        2.940e+02, 2.580e+02, 2.380e+02, 2.300e+02, 1.870e+02, 1.630e+02,\n",
       "        1.280e+02, 1.340e+02, 1.430e+02, 1.230e+02, 9.600e+01, 9.400e+01,\n",
       "        8.500e+01, 8.100e+01, 7.500e+01, 6.200e+01, 5.200e+01, 5.100e+01,\n",
       "        4.700e+01, 3.400e+01, 2.200e+01, 1.700e+01, 3.100e+01, 2.000e+01,\n",
       "        2.300e+01, 1.300e+01, 1.900e+01, 1.300e+01, 1.500e+01, 6.000e+00,\n",
       "        5.000e+00, 5.000e+00, 7.000e+00, 3.000e+00, 8.000e+00, 3.000e+00,\n",
       "        6.000e+00, 4.000e+00, 0.000e+00, 1.000e+00, 1.000e+00, 1.000e+00,\n",
       "        0.000e+00, 0.000e+00, 1.000e+00, 0.000e+00, 1.000e+00, 1.000e+00,\n",
       "        0.000e+00, 1.000e+00, 1.000e+00, 0.000e+00, 0.000e+00, 0.000e+00,\n",
       "        0.000e+00, 0.000e+00, 0.000e+00, 0.000e+00, 1.000e+00, 0.000e+00,\n",
       "        0.000e+00, 1.000e+00]),\n",
       " array([19.24  , 19.2999, 19.3598, 19.4197, 19.4796, 19.5395, 19.5994,\n",
       "        19.6593, 19.7192, 19.7791, 19.839 , 19.8989, 19.9588, 20.0187,\n",
       "        20.0786, 20.1385, 20.1984, 20.2583, 20.3182, 20.3781, 20.438 ,\n",
       "        20.4979, 20.5578, 20.6177, 20.6776, 20.7375, 20.7974, 20.8573,\n",
       "        20.9172, 20.9771, 21.037 , 21.0969, 21.1568, 21.2167, 21.2766,\n",
       "        21.3365, 21.3964, 21.4563, 21.5162, 21.5761, 21.636 , 21.6959,\n",
       "        21.7558, 21.8157, 21.8756, 21.9355, 21.9954, 22.0553, 22.1152,\n",
       "        22.1751, 22.235 , 22.2949, 22.3548, 22.4147, 22.4746, 22.5345,\n",
       "        22.5944, 22.6543, 22.7142, 22.7741, 22.834 , 22.8939, 22.9538,\n",
       "        23.0137, 23.0736, 23.1335, 23.1934, 23.2533, 23.3132, 23.3731,\n",
       "        23.433 , 23.4929, 23.5528, 23.6127, 23.6726, 23.7325, 23.7924,\n",
       "        23.8523, 23.9122, 23.9721, 24.032 , 24.0919, 24.1518, 24.2117,\n",
       "        24.2716, 24.3315, 24.3914, 24.4513, 24.5112, 24.5711, 24.631 ,\n",
       "        24.6909, 24.7508, 24.8107, 24.8706, 24.9305, 24.9904, 25.0503,\n",
       "        25.1102, 25.1701, 25.23  , 25.2899, 25.3498, 25.4097, 25.4696,\n",
       "        25.5295, 25.5894, 25.6493, 25.7092, 25.7691, 25.829 , 25.8889,\n",
       "        25.9488, 26.0087, 26.0686, 26.1285, 26.1884, 26.2483, 26.3082,\n",
       "        26.3681, 26.428 , 26.4879, 26.5478, 26.6077, 26.6676, 26.7275,\n",
       "        26.7874, 26.8473, 26.9072, 26.9671, 27.027 , 27.0869, 27.1468,\n",
       "        27.2067, 27.2666, 27.3265, 27.3864, 27.4463, 27.5062, 27.5661,\n",
       "        27.626 , 27.6859, 27.7458, 27.8057, 27.8656, 27.9255, 27.9854,\n",
       "        28.0453, 28.1052, 28.1651, 28.225 , 28.2849, 28.3448, 28.4047,\n",
       "        28.4646, 28.5245, 28.5844, 28.6443, 28.7042, 28.7641, 28.824 ,\n",
       "        28.8839, 28.9438, 29.0037, 29.0636, 29.1235, 29.1834, 29.2433,\n",
       "        29.3032, 29.3631, 29.423 , 29.4829, 29.5428, 29.6027, 29.6626,\n",
       "        29.7225, 29.7824, 29.8423, 29.9022, 29.9621, 30.022 , 30.0819,\n",
       "        30.1418, 30.2017, 30.2616, 30.3215, 30.3814, 30.4413, 30.5012,\n",
       "        30.5611, 30.621 , 30.6809, 30.7408, 30.8007, 30.8606, 30.9205,\n",
       "        30.9804, 31.0403, 31.1002, 31.1601, 31.22  ]),\n",
       " <a list of 200 Patch objects>)"
      ]
     },
     "execution_count": 70,
     "metadata": {},
     "output_type": "execute_result"
    },
    {
     "data": {
      "image/png": "[encoded data removed]",
      "text/plain": [
       "<Figure size 432x288 with 1 Axes>"
      ]
     },
     "metadata": {},
     "output_type": "display_data"
    }
   ],
   "source": [
    "clt_dist = []\n",
    "for i in range(100000):\n",
    "    s = np.random.choice(voter_age_country, size=100)\n",
    "    clt_dist.append(np.mean(s))\n",
    "        \n",
    "plt.hist(clt_dist, bins=200)"
   ]
  },
  {
   "cell_type": "code",
   "execution_count": 69,
   "metadata": {},
   "outputs": [
    {
     "data": {
      "text/plain": [
       "(array([1.000e+00, 0.000e+00, 0.000e+00, 0.000e+00, 1.000e+00, 0.000e+00,\n",
       "        1.000e+00, 0.000e+00, 1.000e+00, 1.000e+00, 0.000e+00, 1.000e+00,\n",
       "        2.000e+00, 0.000e+00, 3.000e+00, 6.000e+00, 2.000e+00, 6.000e+00,\n",
       "        5.000e+00, 2.000e+00, 7.000e+00, 6.000e+00, 9.000e+00, 1.400e+01,\n",
       "        1.200e+01, 9.000e+00, 1.400e+01, 9.000e+00, 1.700e+01, 2.100e+01,\n",
       "        2.500e+01, 2.800e+01, 2.900e+01, 3.600e+01, 3.100e+01, 4.100e+01,\n",
       "        3.900e+01, 6.100e+01, 6.400e+01, 6.200e+01, 7.800e+01, 7.200e+01,\n",
       "        1.320e+02, 9.400e+01, 1.200e+02, 1.120e+02, 1.200e+02, 1.490e+02,\n",
       "        1.550e+02, 1.840e+02, 2.120e+02, 2.290e+02, 2.870e+02, 2.240e+02,\n",
       "        2.780e+02, 3.040e+02, 3.760e+02, 3.820e+02, 3.930e+02, 4.090e+02,\n",
       "        4.480e+02, 4.860e+02, 5.190e+02, 6.580e+02, 5.890e+02, 6.440e+02,\n",
       "        6.410e+02, 7.080e+02, 7.460e+02, 7.390e+02, 8.140e+02, 8.390e+02,\n",
       "        8.780e+02, 1.192e+03, 1.070e+03, 9.760e+02, 1.143e+03, 1.167e+03,\n",
       "        1.165e+03, 1.207e+03, 1.264e+03, 1.288e+03, 1.363e+03, 1.377e+03,\n",
       "        1.647e+03, 1.452e+03, 1.469e+03, 1.537e+03, 1.549e+03, 1.516e+03,\n",
       "        1.649e+03, 1.518e+03, 1.595e+03, 1.606e+03, 1.963e+03, 1.631e+03,\n",
       "        1.651e+03, 1.626e+03, 1.707e+03, 1.634e+03, 1.568e+03, 1.662e+03,\n",
       "        1.674e+03, 1.585e+03, 1.611e+03, 1.903e+03, 1.505e+03, 1.564e+03,\n",
       "        1.494e+03, 1.439e+03, 1.500e+03, 1.474e+03, 1.404e+03, 1.399e+03,\n",
       "        1.293e+03, 1.541e+03, 1.198e+03, 1.201e+03, 1.198e+03, 1.153e+03,\n",
       "        1.104e+03, 1.095e+03, 9.540e+02, 9.300e+02, 8.490e+02, 8.570e+02,\n",
       "        1.030e+03, 7.350e+02, 7.370e+02, 7.270e+02, 6.590e+02, 6.410e+02,\n",
       "        5.870e+02, 5.730e+02, 5.020e+02, 5.210e+02, 5.660e+02, 4.210e+02,\n",
       "        3.880e+02, 3.600e+02, 3.350e+02, 3.280e+02, 2.730e+02, 2.710e+02,\n",
       "        2.270e+02, 2.310e+02, 2.130e+02, 2.350e+02, 1.690e+02, 1.530e+02,\n",
       "        1.420e+02, 1.350e+02, 1.240e+02, 9.700e+01, 1.020e+02, 7.300e+01,\n",
       "        7.000e+01, 7.700e+01, 7.300e+01, 5.700e+01, 4.500e+01, 4.800e+01,\n",
       "        3.900e+01, 3.800e+01, 3.800e+01, 3.400e+01, 2.400e+01, 2.500e+01,\n",
       "        3.600e+01, 1.400e+01, 1.300e+01, 1.500e+01, 1.000e+01, 9.000e+00,\n",
       "        1.500e+01, 6.000e+00, 8.000e+00, 1.100e+01, 5.000e+00, 9.000e+00,\n",
       "        3.000e+00, 1.000e+00, 2.000e+00, 4.000e+00, 2.000e+00, 2.000e+00,\n",
       "        1.000e+00, 2.000e+00, 2.000e+00, 2.000e+00, 0.000e+00, 0.000e+00,\n",
       "        1.000e+00, 0.000e+00, 0.000e+00, 0.000e+00, 0.000e+00, 0.000e+00,\n",
       "        1.000e+00, 1.000e+00]),\n",
       " array([18.52   , 18.57095, 18.6219 , 18.67285, 18.7238 , 18.77475,\n",
       "        18.8257 , 18.87665, 18.9276 , 18.97855, 19.0295 , 19.08045,\n",
       "        19.1314 , 19.18235, 19.2333 , 19.28425, 19.3352 , 19.38615,\n",
       "        19.4371 , 19.48805, 19.539  , 19.58995, 19.6409 , 19.69185,\n",
       "        19.7428 , 19.79375, 19.8447 , 19.89565, 19.9466 , 19.99755,\n",
       "        20.0485 , 20.09945, 20.1504 , 20.20135, 20.2523 , 20.30325,\n",
       "        20.3542 , 20.40515, 20.4561 , 20.50705, 20.558  , 20.60895,\n",
       "        20.6599 , 20.71085, 20.7618 , 20.81275, 20.8637 , 20.91465,\n",
       "        20.9656 , 21.01655, 21.0675 , 21.11845, 21.1694 , 21.22035,\n",
       "        21.2713 , 21.32225, 21.3732 , 21.42415, 21.4751 , 21.52605,\n",
       "        21.577  , 21.62795, 21.6789 , 21.72985, 21.7808 , 21.83175,\n",
       "        21.8827 , 21.93365, 21.9846 , 22.03555, 22.0865 , 22.13745,\n",
       "        22.1884 , 22.23935, 22.2903 , 22.34125, 22.3922 , 22.44315,\n",
       "        22.4941 , 22.54505, 22.596  , 22.64695, 22.6979 , 22.74885,\n",
       "        22.7998 , 22.85075, 22.9017 , 22.95265, 23.0036 , 23.05455,\n",
       "        23.1055 , 23.15645, 23.2074 , 23.25835, 23.3093 , 23.36025,\n",
       "        23.4112 , 23.46215, 23.5131 , 23.56405, 23.615  , 23.66595,\n",
       "        23.7169 , 23.76785, 23.8188 , 23.86975, 23.9207 , 23.97165,\n",
       "        24.0226 , 24.07355, 24.1245 , 24.17545, 24.2264 , 24.27735,\n",
       "        24.3283 , 24.37925, 24.4302 , 24.48115, 24.5321 , 24.58305,\n",
       "        24.634  , 24.68495, 24.7359 , 24.78685, 24.8378 , 24.88875,\n",
       "        24.9397 , 24.99065, 25.0416 , 25.09255, 25.1435 , 25.19445,\n",
       "        25.2454 , 25.29635, 25.3473 , 25.39825, 25.4492 , 25.50015,\n",
       "        25.5511 , 25.60205, 25.653  , 25.70395, 25.7549 , 25.80585,\n",
       "        25.8568 , 25.90775, 25.9587 , 26.00965, 26.0606 , 26.11155,\n",
       "        26.1625 , 26.21345, 26.2644 , 26.31535, 26.3663 , 26.41725,\n",
       "        26.4682 , 26.51915, 26.5701 , 26.62105, 26.672  , 26.72295,\n",
       "        26.7739 , 26.82485, 26.8758 , 26.92675, 26.9777 , 27.02865,\n",
       "        27.0796 , 27.13055, 27.1815 , 27.23245, 27.2834 , 27.33435,\n",
       "        27.3853 , 27.43625, 27.4872 , 27.53815, 27.5891 , 27.64005,\n",
       "        27.691  , 27.74195, 27.7929 , 27.84385, 27.8948 , 27.94575,\n",
       "        27.9967 , 28.04765, 28.0986 , 28.14955, 28.2005 , 28.25145,\n",
       "        28.3024 , 28.35335, 28.4043 , 28.45525, 28.5062 , 28.55715,\n",
       "        28.6081 , 28.65905, 28.71   ]),\n",
       " <a list of 200 Patch objects>)"
      ]
     },
     "execution_count": 69,
     "metadata": {},
     "output_type": "execute_result"
    },
    {
     "data": {
      "image/png": "[encoded data removed]",
      "text/plain": [
       "<Figure size 432x288 with 1 Axes>"
      ]
     },
     "metadata": {},
     "output_type": "display_data"
    }
   ],
   "source": [
    "clt_dist = []\n",
    "for i in range(100000):\n",
    "    s = np.random.choice(voter_age_province, size=100)\n",
    "    clt_dist.append(np.mean(s))\n",
    "        \n",
    "plt.hist(clt_dist, bins=200)"
   ]
  },
  {
   "cell_type": "code",
   "execution_count": 71,
   "metadata": {},
   "outputs": [],
   "source": [
    "import scipy.stats as stats\n"
   ]
  },
  {
   "cell_type": "code",
   "execution_count": 72,
   "metadata": {},
   "outputs": [
    {
     "name": "stdout",
     "output_type": "stream",
     "text": [
      "24.99508\n"
     ]
    }
   ],
   "source": [
    "print(voter_age_country.mean())"
   ]
  },
  {
   "cell_type": "code",
   "execution_count": 74,
   "metadata": {},
   "outputs": [
    {
     "name": "stdout",
     "output_type": "stream",
     "text": [
      "23.54\n"
     ]
    }
   ],
   "source": [
    "print(voter_age_province.mean())"
   ]
  },
  {
   "cell_type": "code",
   "execution_count": 77,
   "metadata": {},
   "outputs": [
    {
     "data": {
      "text/plain": [
       "Ttest_indResult(statistic=0.7783017208089785, pvalue=0.4363985130606691)"
      ]
     },
     "execution_count": 77,
     "metadata": {},
     "output_type": "execute_result"
    }
   ],
   "source": [
    "stats.ttest_ind(a= voter_age_country,\n",
    "                b= voter_age_province)"
   ]
  },
  {
   "cell_type": "code",
   "execution_count": 78,
   "metadata": {},
   "outputs": [],
   "source": [
    "# The p-value is 0.4363 meaning there is a 40% chance we'd see sample data this far \n",
    "# apart if the groups tested were identical."
   ]
  },
  {
   "cell_type": "code",
   "execution_count": null,
   "metadata": {},
   "outputs": [],
   "source": []
  }
 ],
 "metadata": {
  "kernelspec": {
   "display_name": "Python 3",
   "language": "python",
   "name": "python3"
  },
  "language_info": {
   "codemirror_mode": {
    "name": "ipython",
    "version": 3
   },
   "file_extension": ".py",
   "mimetype": "text/x-python",
   "name": "python",
   "nbconvert_exporter": "python",
   "pygments_lexer": "ipython3",
   "version": "3.6.5"
  }
 },
 "nbformat": 4,
 "nbformat_minor": 2
}
